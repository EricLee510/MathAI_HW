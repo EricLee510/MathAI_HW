{
 "cells": [
  {
   "cell_type": "code",
   "execution_count": null,
   "metadata": {},
   "outputs": [],
   "source": [
    "%matplotlib inline\n",
    "\n",
    "import numpy as np\n",
    "import matplotlib.pyplot as plt\n",
    "\n",
    "x = np.linspace(0,2*np.pi,100)\n",
    "\n",
    "def plotsine(A = 1, omega = 1, phi = 0):\n",
    "    y = A*np.sin(omega*x+phi)\n",
    "    plt.plot(x,y)\n",
    "\n",
    "plotsine(1,1,0)"
   ]
  },
  {
   "cell_type": "code",
   "execution_count": null,
   "metadata": {},
   "outputs": [],
   "source": [
    "%matplotlib inline\n",
    "\n",
    "import numpy as np\n",
    "import matplotlib.pyplot as plt\n",
    "\n",
    "x = np.linspace(0,2*np.pi,100)\n",
    "\n",
    "def plotsine(A = 1, omega = 1, phi = 0):\n",
    "    y = A*np.cos(omega*x+phi)\n",
    "    plt.plot(x,y)\n",
    "\n",
    "plotsine(1,1,0)"
   ]
  },
  {
   "cell_type": "code",
   "execution_count": 88,
   "metadata": {},
   "outputs": [
    {
     "data": {
      "text/plain": [
       "<matplotlib.collections.PathCollection at 0x1b424b312b0>"
      ]
     },
     "execution_count": 88,
     "metadata": {},
     "output_type": "execute_result"
    },
    {
     "data": {
      "image/png": "[encoded data removed]",
      "text/plain": [
       "<Figure size 432x288 with 1 Axes>"
      ]
     },
     "metadata": {},
     "output_type": "display_data"
    }
   ],
   "source": [
    "%matplotlib inline\n",
    "\n",
    "import numpy as np\n",
    "import matplotlib.pyplot as plt\n",
    "\n",
    "plt.title('Python')\n",
    "plt.xticks([0,1,2,3,4], \n",
    "          ['w', 'o', 'r', 'l', 'd']);\n",
    "plt.yticks([-2,2,4,6,8,10], \n",
    "          ['', 'o', 'l', 'l', 'e','H']);\n",
    "\n",
    "ax = plt.gca()\n",
    "ax.set_facecolor('c')\n",
    "\n",
    "\n",
    "x = [1,1, 3, 3, 4, 4, 3, 3, 1, 1]\n",
    "y = [2,-2,-2, 2, 2, 6, 6, 4, 4, 2]\n",
    "plt.plot(x, y,\"y\",alpha = 1,lw=3)\n",
    "plt.fill(x,y,'y',alpha = 0.8)\n",
    "\n",
    "x1 = [3, 3, 1, 1, 0, 0, 1, 1, 3, 3]\n",
    "y1 = [6, 10, 10, 6, 6, 2, 2, 4, 4, 6]\n",
    "plt.plot(x1, y1,\"b\",alpha = 1,lw=3)\n",
    "plt.fill(x1,y1,'b',alpha = 0.5)\n",
    "\n",
    "\n",
    "x2 = [1, 1, 3, 3]\n",
    "y1 = [2, 4, 4, 6]\n",
    "plt.plot(x2,y1,\"w\",lw=3)\n",
    "\n",
    "x3 = [1, 2]\n",
    "y3 = [6, 6]\n",
    "plt.plot(x3, y3,\"w\",lw=3)\n",
    "\n",
    "x4 = [3, 2]\n",
    "y4 = [2, 2]\n",
    "plt.plot(x4, y4,\"w\",lw=3)\n",
    "\n",
    "plt.scatter(2.7, 0.8, s=500, c = \"white\", edgecolor = \"white\", alpha = 1,lw=3)\n",
    "plt.scatter(1.3, 7.2, s=500, c = \"white\", edgecolor = \"white\", alpha = 1,lw=3)\n"
   ]
  },
  {
   "cell_type": "code",
   "execution_count": null,
   "metadata": {},
   "outputs": [],
   "source": []
  },
  {
   "cell_type": "code",
   "execution_count": null,
   "metadata": {},
   "outputs": [],
   "source": []
  },
  {
   "cell_type": "code",
   "execution_count": null,
   "metadata": {},
   "outputs": [],
   "source": []
  },
  {
   "cell_type": "code",
   "execution_count": null,
   "metadata": {},
   "outputs": [],
   "source": []
  }
 ],
 "metadata": {
  "kernelspec": {
   "display_name": "Python 3",
   "language": "python",
   "name": "python3"
  },
  "language_info": {
   "codemirror_mode": {
    "name": "ipython",
    "version": 3
   },
   "file_extension": ".py",
   "mimetype": "text/x-python",
   "name": "python",
   "nbconvert_exporter": "python",
   "pygments_lexer": "ipython3",
   "version": "3.6.5"
  }
 },
 "nbformat": 4,
 "nbformat_minor": 2
}
