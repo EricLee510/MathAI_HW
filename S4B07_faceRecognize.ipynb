{
 "cells": [
  {
   "cell_type": "markdown",
   "metadata": {},
   "source": [
    "# import"
   ]
  },
  {
   "cell_type": "code",
   "execution_count": null,
   "metadata": {},
   "outputs": [],
   "source": [
    "import cv2\n",
    "import numpy as np\n",
    "import os"
   ]
  },
  {
   "cell_type": "markdown",
   "metadata": {},
   "source": [
    "# cap picture"
   ]
  },
  {
   "cell_type": "code",
   "execution_count": null,
   "metadata": {},
   "outputs": [],
   "source": [
    "ESC = 27\n",
    "cap = cv2.VideoCapture(0)  \n",
    "face_cascade = cv2.CascadeClassifier(cv2.data.haarcascades + \"haarcascade_frontalface_alt2.xml\") \n",
    "ret = False\n",
    "while True:\n",
    "    ret, frame = cap.read() \n",
    "    if ret == False or cv2.waitKey(1) == ESC:\n",
    "        break\n",
    "    #get frame\n",
    "    frame = cv2.flip(frame,1) \n",
    "    gray = cv2.cvtColor(frame,cv2.COLOR_BGR2GRAY) \n",
    "    faces = face_cascade.detectMultiScale(gray,1.1,5)\n",
    "    for (x,y,w,h) in faces:\n",
    "          if w != 0 and h != 0:\n",
    "            cv2.rectangle(frame,(x,y),(x+w,y+h),(0,200,200),2)\n",
    "            face_image = cv2.resize(gray[y: y+h, x: x+w],(400,400))\n",
    "            try:\n",
    "                val = model.predict(face_image)\n",
    "                print(f\"label:{val[0]}, confidence: {val[1]}\")\n",
    "                if val[1] < 50:\n",
    "                    cv2.putText(frame, names[val[0]], (x, y-10),cv2.FONT_HERSHEY_COMPLEX,1,(255,255,0),2)\n",
    "            except:\n",
    "                pass\n",
    "    cv2.imshow(\"frame\",frame)\n",
    "\n",
    "\n",
    "cv2.destroyAllWindows() \n",
    "cap.release() \n",
    "\n",
    "# <50 相似"
   ]
  },
  {
   "cell_type": "markdown",
   "metadata": {},
   "source": [
    "# detect folder or jpeg"
   ]
  },
  {
   "cell_type": "code",
   "execution_count": null,
   "metadata": {},
   "outputs": [],
   "source": [
    "path = \"images2/p2\"#簡化 because 同一個folder\n",
    "NumbersofImage = 0 #count image\n",
    "for file in os.listdir(path): #the name of every file in this folder \n",
    "    fullname = os.path.join(path, file) #讀出 this item(item's name) in this folder(path)\n",
    "    if os.path.isdir(fullname): #detect is it folder?\n",
    "        print(f\"{file}<DIR>\")\n",
    "    elif file.endswith(\".jpeg\"): #detect end name \n",
    "        print(f\"{file}\")\n",
    "        NumbersofImage += 1"
   ]
  },
  {
   "cell_type": "code",
   "execution_count": null,
   "metadata": {},
   "outputs": [],
   "source": [
    "NumbersofImage"
   ]
  },
  {
   "cell_type": "markdown",
   "metadata": {},
   "source": [
    "# send jpeg and label to python"
   ]
  },
  {
   "cell_type": "code",
   "execution_count": null,
   "metadata": {},
   "outputs": [],
   "source": [
    "images = []\n",
    "labels = []\n",
    "\n",
    "for index in range(NumbersofImage): #0 1 2 3 4 5-99 = 100\n",
    "    filename = f\"images2/p0/{index}.jpeg\" #path\n",
    "    img = cv2.imread(filename) #change this img to gray\n",
    "    img = cv2.cvtColor(img, cv2.COLOR_BGR2GRAY)\n",
    "    if index < 3: #確定是否是你(不必要)\n",
    "        cv2.imshow(\"check\", img)\n",
    "        cv2.waitKey(0)\n",
    "        cv2.destroyWindow(\"check\")\n",
    "    images.append(img)\n",
    "    labels.append(0) #確定那是你,代號0(p0)"
   ]
  },
  {
   "cell_type": "code",
   "execution_count": null,
   "metadata": {},
   "outputs": [],
   "source": [
    "for index in range(NumbersofImage): #0 1 2 3 4 5-99 = 100\n",
    "    filename = f\"images2/p1/{index}.jpeg\" #path\n",
    "    img = cv2.imread(filename) #change this img to gray\n",
    "    img = cv2.cvtColor(img, cv2.COLOR_BGR2GRAY)\n",
    "    if index < 3: #確定是否是你(不必要)\n",
    "        cv2.imshow(\"check\", img)\n",
    "        cv2.waitKey(0)\n",
    "        cv2.destroyWindow(\"check\")\n",
    "    images.append(img)\n",
    "    labels.append(1) #確定那是你,代號0(p0)"
   ]
  },
  {
   "cell_type": "code",
   "execution_count": null,
   "metadata": {},
   "outputs": [],
   "source": [
    "for index in range(NumbersofImage): #0 1 2 3 4 5-99 = 100\n",
    "    filename = f\"images2/p2/{index}.jpeg\" #path\n",
    "    img = cv2.imread(filename) #change this img to gray\n",
    "    img = cv2.cvtColor(img, cv2.COLOR_BGR2GRAY)\n",
    "    if index < 3: #確定是否是你(不必要)\n",
    "        cv2.imshow(\"check\", img)\n",
    "        cv2.waitKey(0)\n",
    "        cv2.destroyWindow(\"check\")\n",
    "    images.append(img)\n",
    "    labels.append(2) #確定那是你,代號0(p0)"
   ]
  },
  {
   "cell_type": "code",
   "execution_count": null,
   "metadata": {},
   "outputs": [],
   "source": [
    "labels"
   ]
  },
  {
   "cell_type": "markdown",
   "metadata": {},
   "source": [
    "# train"
   ]
  },
  {
   "cell_type": "code",
   "execution_count": null,
   "metadata": {},
   "outputs": [],
   "source": [
    "print(\"Training...\")\n",
    "model = cv2.face.LBPHFaceRecognizer_create() #create a tool\n",
    "model.train(np.asarray(images), np.asarray(labels)) #this model needs np array\n",
    "model.save(\"all150.data\")\n",
    "print(\"Training done\")\n",
    "\n",
    "#1. computer can not detect\n",
    "#2. teach computer : img1 -> A(0)\n",
    "#3. let it learn to detect img1 -> A(0)\n",
    "#4. computer can detect img1 -> A\n",
    "#5. after many time learn\n",
    "#6. computer can detect any img"
   ]
  },
  {
   "cell_type": "markdown",
   "metadata": {},
   "source": [
    "# load train data"
   ]
  },
  {
   "cell_type": "code",
   "execution_count": null,
   "metadata": {},
   "outputs": [],
   "source": [
    "import cv2\n",
    "model = cv2.face.LBPHFaceRecognizer_create() #create a tool\n",
    "model.read(\"all150.data\")\n",
    "print(\"Load training data done\")\n",
    "names = [\"Eric\",\"Billy\",\"Vincent\"] #the name of the person~"
   ]
  },
  {
   "cell_type": "markdown",
   "metadata": {},
   "source": [
    "# recognizing"
   ]
  },
  {
   "cell_type": "code",
   "execution_count": null,
   "metadata": {},
   "outputs": [],
   "source": [
    "ESC = 27\n",
    "cap = cv2.VideoCapture(0)  \n",
    "#face_cascade = cv2.CascadeClassifier(cv2.data.haarcascades + \"haarcascade_frontalcatface.xml\") \n",
    "face_cascade = cv2.CascadeClassifier(cv2.data.haarcascades + \"haarcascade_frontalface_alt2.xml\") \n",
    "ret = False\n",
    "while True:\n",
    "    ret, frame = cap.read() \n",
    "    if ret == False or cv2.waitKey(1) == ESC:\n",
    "        break\n",
    "    #get frame\n",
    "    frame = cv2.flip(frame,1) \n",
    "    gray = cv2.cvtColor(frame,cv2.COLOR_BGR2GRAY) \n",
    "    faces = face_cascade.detectMultiScale(gray,1.1,5)\n",
    "    #faces = face_cascade.detectMultiScale(gray,1.1,5)\n",
    "    for (x,y,w,h) in faces:\n",
    "          if w != 0 and h != 0:\n",
    "            cv2.rectangle(frame,(x,y),(x+w,y+h),(0,200,200),2)\n",
    "            face_image = cv2.resize(gray[y: y+h, x: x+w],(400,400))\n",
    "            try:\n",
    "                val = model.predict(face_image)\n",
    "                print(f\"label:{val[0]}, confidence: {val[1]}\")\n",
    "                if val[1] < 45:\n",
    "                    cv2.putText(frame, names[val[0]], (x, y-10),cv2.FONT_HERSHEY_COMPLEX,1,(255,255,0),2)\n",
    "            except:\n",
    "                pass\n",
    "    cv2.imshow(\"frame\",frame)\n",
    "\n",
    "\n",
    "cv2.destroyAllWindows() \n",
    "cap.release() \n",
    "\n",
    "# <50 相似\n"
   ]
  },
  {
   "cell_type": "raw",
   "metadata": {},
   "source": []
  },
  {
   "cell_type": "code",
   "execution_count": null,
   "metadata": {},
   "outputs": [],
   "source": []
  }
 ],
 "metadata": {
  "kernelspec": {
   "display_name": "Python 3 (ipykernel)",
   "language": "python",
   "name": "python3"
  },
  "language_info": {
   "codemirror_mode": {
    "name": "ipython",
    "version": 3
   },
   "file_extension": ".py",
   "mimetype": "text/x-python",
   "name": "python",
   "nbconvert_exporter": "python",
   "pygments_lexer": "ipython3",
   "version": "3.9.7"
  }
 },
 "nbformat": 4,
 "nbformat_minor": 2
}
