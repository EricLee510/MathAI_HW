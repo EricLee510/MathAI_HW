{
 "cells": [
  {
   "cell_type": "code",
   "execution_count": 20,
   "metadata": {},
   "outputs": [
    {
     "name": "stdout",
     "output_type": "stream",
     "text": [
      "start\n",
      "finish\n"
     ]
    }
   ],
   "source": [
    "import cv2\n",
    "space = 32\n",
    "ESC = 27\n",
    "\n",
    "cap = cv2.VideoCapture(0) \n",
    "ratio = cap.get(cv2.CAP_PROP_FRAME_WIDTH) / cap.get(cv2.CAP_PROP_FRAME_HEIGHT)\n",
    "WIDTH = 600 \n",
    "HEIGHT = int(WIDTH/ratio)\n",
    "             \n",
    "cv2.namedWindow(\"Me\", cv2.WINDOW_NORMAL) #Action - open a window(window's name, window's type)\n",
    "\n",
    "ret = True\n",
    "capture = False\n",
    "while ret:\n",
    "    #key setting \n",
    "    if cv2.waitKey(1) == space:\n",
    "        capture = True\n",
    "    elif  cv2.waitKey(1) == ESC:\n",
    "        break\n",
    "        \n",
    "    #get frame\n",
    "    ret, frame = cap.read() \n",
    "    frame = cv2.resize(frame, (WIDTH, HEIGHT)) \n",
    "    frame = cv2.flip(frame,1) \n",
    "    \n",
    "    #change gray frame\n",
    "    gray = cv2.cvtColor(frame,cv2.COLOR_BGR2GRAY) \n",
    "    \n",
    "    #select detect tool\n",
    "    face_cascade = cv2.CascadeClassifier(cv2.data.haarcascades + \"haarcascade_frontalface_alt2.xml\") \n",
    "    face = face_cascade.detectMultiScale(gray,1.1,5)\n",
    "    \n",
    "    for (x,y,w,h) in face:\n",
    "        cv2.rectangle(frame,(x,y),(x+w,y+h),(125,0,200),2)\n",
    "    cv2.imshow(\"Me\", frame)  \n",
    "    \n",
    "    #take picture\n",
    "    if capture == True:\n",
    "        print(\"start\")\n",
    "        for i in range(1,1+1):\n",
    "            cv2.imshow(\"Me\", frame) \n",
    "            for (x,y,w,h) in face:\n",
    "                frame1 = frame[y+2:y+h-1,x+2:x+w-1]\n",
    "            cv2.imwrite(str(i)+\".jpeg\", frame1)\n",
    "            if cv2.waitKey(1) == ESC:\n",
    "                print(\"stop\")\n",
    "                break\n",
    "        print(\"finish\")\n",
    "        capture = False\n",
    "\n",
    "\n",
    "\n",
    "cv2.destroyAllWindows() \n",
    "cap.release() \n",
    "\n"
   ]
  },
  {
   "cell_type": "code",
   "execution_count": null,
   "metadata": {},
   "outputs": [],
   "source": []
  }
 ],
 "metadata": {
  "kernelspec": {
   "display_name": "Python 3",
   "language": "python",
   "name": "python3"
  },
  "language_info": {
   "codemirror_mode": {
    "name": "ipython",
    "version": 3
   },
   "file_extension": ".py",
   "mimetype": "text/x-python",
   "name": "python",
   "nbconvert_exporter": "python",
   "pygments_lexer": "ipython3",
   "version": "3.6.5"
  }
 },
 "nbformat": 4,
 "nbformat_minor": 2
}
