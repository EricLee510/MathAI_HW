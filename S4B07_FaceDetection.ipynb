{
 "cells": [
  {
   "cell_type": "markdown",
   "metadata": {},
   "source": [
    "# answer"
   ]
  },
  {
   "cell_type": "code",
   "execution_count": 6,
   "metadata": {},
   "outputs": [
    {
     "name": "stdout",
     "output_type": "stream",
     "text": [
      "Directory already exists!\n",
      "Directory already exists!\n"
     ]
    }
   ],
   "source": [
    "#initialization\n",
    "import cv2\n",
    "import os\n",
    "ESC = 27\n",
    "n = 1\n",
    "index = 0\n",
    "total = 155\n",
    "font = cv2.FONT_HERSHEY_SIMPLEX\n",
    "\n",
    "#build the folder in order to save the images\n",
    "#folder 1\n",
    "DirPATH = os.path.join(f\"images\")\n",
    "try:\n",
    "    os.mkdir(DirPATH)\n",
    "except FileExistsError:\n",
    "    print(\"Directory already exists!\")\n",
    "    pass\n",
    "\n",
    "#folder2\n",
    "DirPATH = os.path.join(f\"images/p1\")\n",
    "try:\n",
    "    os.mkdir(DirPATH)\n",
    "except FileExistsError:\n",
    "    print(\"Directory already exists!\")\n",
    "    pass\n",
    "\n",
    "\n",
    "#function\n",
    "def saveImage(face_image,index): #save image to the folder\n",
    "    filename = f\"images/p1/{index}.jpeg\"\n",
    "    cv2.imwrite(filename, face_image)\n",
    "    \n",
    "\n",
    "    \n",
    "    \n",
    "    \n",
    "#open the camera and detect the faces\n",
    "cap = cv2.VideoCapture(0) \n",
    "ratio = cap.get(cv2.CAP_PROP_FRAME_WIDTH) / cap.get(cv2.CAP_PROP_FRAME_HEIGHT)\n",
    "WIDTH = 600 \n",
    "HEIGHT = int(WIDTH/ratio)   \n",
    "face_cascade = cv2.CascadeClassifier(cv2.data.haarcascades + \"haarcascade_frontalface_alt2.xml\") \n",
    "font = cv2.FONT_HERSHEY_SIMPLEX\n",
    "cv2.namedWindow(\"Me\", cv2.WINDOW_NORMAL) #Action - open a window(window's name, window's type)\n",
    "ret = True\n",
    "\n",
    "while ret:      \n",
    "    #get frame\n",
    "    ret, frame = cap.read() \n",
    "    frame = cv2.resize(frame, (WIDTH, HEIGHT)) \n",
    "    frame = cv2.flip(frame,1) \n",
    "    gray = cv2.cvtColor(frame,cv2.COLOR_BGR2GRAY) \n",
    "    faces = face_cascade.detectMultiScale(gray,1.1,5)\n",
    "    \n",
    "    #detect faces + take 150 pictures\n",
    "    for (x,y,w,h) in faces:\n",
    "          if w != 0 and h != 0:\n",
    "            cv2.putText(frame,str(index),(10,80), font, 3,(0,0,0),2,cv2.LINE_AA)\n",
    "            cv2.rectangle(frame,(x,y),(x+w,y+h),(125,0,200),2)\n",
    "            if n%5 == 0:\n",
    "                face_image = cv2.resize(frame[y:y+h,x:x+w],(400,400))\n",
    "                saveImage(face_image,index) #save the photos\n",
    "                index +=1\n",
    "            if index >= total:\n",
    "                n = -1\n",
    "                break\n",
    "            n+= 1\n",
    "    cv2.imshow(\"frame\",frame)\n",
    "    \n",
    "    if cv2.waitKey(1) == ESC: #end button\n",
    "        break\n",
    "cv2.destroyAllWindows() \n",
    "cap.release() "
   ]
  },
  {
   "cell_type": "code",
   "execution_count": 5,
   "metadata": {},
   "outputs": [
    {
     "data": {
      "text/plain": [
       "4"
      ]
     },
     "execution_count": 5,
     "metadata": {},
     "output_type": "execute_result"
    }
   ],
   "source": []
  },
  {
   "cell_type": "code",
   "execution_count": 4,
   "metadata": {},
   "outputs": [
    {
     "data": {
      "text/plain": [
       "'hi'"
      ]
     },
     "execution_count": 4,
     "metadata": {},
     "output_type": "execute_result"
    }
   ],
   "source": [
    "dic = {\"eric\":\"hi\"}\n",
    "dic[\"eric\"]"
   ]
  },
  {
   "cell_type": "code",
   "execution_count": null,
   "metadata": {},
   "outputs": [],
   "source": []
  }
 ],
 "metadata": {
  "kernelspec": {
   "display_name": "Python 3 (ipykernel)",
   "language": "python",
   "name": "python3"
  },
  "language_info": {
   "codemirror_mode": {
    "name": "ipython",
    "version": 3
   },
   "file_extension": ".py",
   "mimetype": "text/x-python",
   "name": "python",
   "nbconvert_exporter": "python",
   "pygments_lexer": "ipython3",
   "version": "3.9.7"
  }
 },
 "nbformat": 4,
 "nbformat_minor": 2
}
