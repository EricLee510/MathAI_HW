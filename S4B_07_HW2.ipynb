{
 "cells": [
  {
   "cell_type": "markdown",
   "metadata": {},
   "source": [
    "# 月曆 S4B_07"
   ]
  },
  {
   "cell_type": "code",
   "execution_count": 7,
   "metadata": {},
   "outputs": [],
   "source": [
    "def YMTest(year,month,YearT = 0):\n",
    "    #閏年判斷\n",
    "    if year % 400 == 0 :\n",
    "        yearT = 1\n",
    "    elif year % 4 == 0 and year % 100 !=  0:\n",
    "        YearT = 1\n",
    "    else:\n",
    "        YearT = 0\n",
    "        \n",
    "    #Month 判斷\n",
    "    if YearT == 1 and month == 2:\n",
    "        Lastday = 29\n",
    "        return Lastday\n",
    "    elif month == 2:\n",
    "        Lastday = 28\n",
    "        return Lastday\n",
    "    elif month % 2 == 0 and month < 7:\n",
    "        Lastday = 30\n",
    "        return Lastday\n",
    "    elif month % 2 != 0 and month > 7:\n",
    "        Lastday = 30\n",
    "        return Lastday\n",
    "    else:\n",
    "        Lastday = 31\n",
    "        return Lastday\n",
    "\n",
    "def digitalTest(test):\n",
    "    if test.isdigit() == False:\n",
    "        error = 'Error'\n",
    "        return error\n",
    "    else:\n",
    "        return test"
   ]
  },
  {
   "cell_type": "code",
   "execution_count": 11,
   "metadata": {},
   "outputs": [
    {
     "name": "stdout",
     "output_type": "stream",
     "text": [
      "Q_Year(0000-9999): 2000\n",
      "Q_Month(1-12): 2\n",
      "Q_What firstday is (please type 0-6, 0 is sunday, 6 is saturday)2\n",
      "Sun. \tMon. \tTur. \tWed. \tThu. \tFri. \tSat. \t\n",
      "\t\t1\t2\t3\t4\t5\t\n",
      "\n",
      "6\t7\t8\t9\t10\t11\t12\t\n",
      "\n",
      "13\t14\t15\t16\t17\t18\t19\t\n",
      "\n",
      "20\t21\t22\t23\t24\t25\t26\t\n",
      "\n",
      "27\t28\t"
     ]
    }
   ],
   "source": [
    "first = 1\n",
    "year = 0\n",
    "month = 0\n",
    "firstDay = 0\n",
    "\n",
    "while True:\n",
    "    if first == 1:\n",
    "        year = digitalTest(input(\"Q_Year(0000-9999): \"))\n",
    "        month = digitalTest(input(\"Q_Month(1-12): \"))\n",
    "        firstDay = digitalTest(input(\"Q_What firstday is (please type 0-6, 0 is sunday, 6 is saturday)\"))\n",
    "        if year == 'Error'or month == 'Error' or firstDay == 'Error' :\n",
    "            print(\"Error: Please type again!(cannot string)\")\n",
    "            continue\n",
    "        elif int(year) < 0 or int(year) > 9999 or int(month) < 1 or int(month) > 12 or int(firstDay) < 0 or int(firstDay) > 6:\n",
    "            print(\"Error: Please type again! (out of zone)\")\n",
    "            continue\n",
    "        else:\n",
    "            first = 0\n",
    "    print(\"Sun. \\tMon. \\tTur. \\tWed. \\tThu. \\tFri. \\tSat. \\t\")\n",
    "    print(\"\\t\" * int(firstDay), end = '')\n",
    "    for i in range(0,YMTest(int(year),int(month))):\n",
    "        print(str(i + 1) + '\\t', end = '')\n",
    "        if (i+ 1+ int(firstDay)) % 7 == 0:\n",
    "            print(\"\\n\")\n",
    "    break"
   ]
  },
  {
   "cell_type": "markdown",
   "metadata": {},
   "source": [
    "# 庫存 S4B_07"
   ]
  },
  {
   "cell_type": "code",
   "execution_count": 20,
   "metadata": {},
   "outputs": [],
   "source": [
    "def digitalTest(test):\n",
    "    if test.isdigit() == False:\n",
    "        error = 'Error'\n",
    "        return error\n",
    "    else:\n",
    "        return test"
   ]
  },
  {
   "cell_type": "code",
   "execution_count": 21,
   "metadata": {},
   "outputs": [
    {
     "name": "stdout",
     "output_type": "stream",
     "text": [
      "Item NO.: A01\n",
      "。Item Name: apple\n",
      "。Amount of: 5\n",
      "Item NO.: A02\n",
      "。Item Name: orange\n",
      "。Amount of: 8\n",
      "Item NO.: A01\n",
      "what do you want to do with A01 (0 is check , 1 is change) =>0\n",
      "Item No.: A01\n",
      "。Name: apple\n",
      "。Amount of: 5\n",
      "Item NO.: A01\n",
      "what do you want to do with A01 (0 is check , 1 is change) =>1\n",
      "Item No.: A01\n",
      "。Item Name.: apple\n",
      "。Amount of: 10\n",
      "Item NO.: FFF\n"
     ]
    }
   ],
   "source": [
    "inventory = {}\n",
    "first = 1\n",
    "\n",
    "while True:\n",
    "    itemNo = input(\"Item NO.: \")\n",
    "    if itemNo == \"FFF\" or itemNo ==\"fff\":\n",
    "        break\n",
    "        \n",
    "    #沒有時\n",
    "    if itemNo not in  inventory and first == 1:\n",
    "        inventory[\"Item No.\"] = [itemNo]\n",
    "        inventory[\"Name\"] = [input(\"。Item Name: \")] \n",
    "        A = digitalTest(input(\"。Amount of: \"))\n",
    "        if A == 'Error':\n",
    "            print(\"Error: not digital\")\n",
    "            continue\n",
    "        else:\n",
    "            inventory[\"Amount of\"] = [A]\n",
    "        first = 0\n",
    "    elif itemNo not in inventory[\"Item No.\"] and first == 0:\n",
    "        inventory[\"Item No.\"].append(itemNo)\n",
    "        inventory[\"Name\"].append(input(\"。Item Name: \"))\n",
    "        inventory[\"Amount of\"].append(digitalTest(input(\"。Amount of: \")))\n",
    "    else:\n",
    "        command = input(\"what do you want to do with \" + str(itemNo) + \" (0 is check , 1 is change) =>\")\n",
    "        if command == '0':\n",
    "            print(\"Item No.: \" + str(inventory[\"Item No.\"][int(itemNo[1:])-1]))\n",
    "            print(\"。Name: \" + str(inventory[\"Name\"] [int(itemNo[1:])-1]))\n",
    "            print(\"。Amount of: \" + str(inventory[\"Amount of\"] [int(itemNo[1:])-1]))\n",
    "        elif command == '1':\n",
    "            print(\"Item No.: \" + str(inventory[\"Item No.\"] [int(itemNo[1:])-1]))\n",
    "            print(\"。Item Name.: \" + str(inventory[\"Name\"] [int(itemNo[1:])-1]))\n",
    "            inventory[\"Amount of\"][int(itemNo[1:])-1] = input(\"。Amount of: \")\n",
    "        else:\n",
    "            print(\"Error2: not 0 or 1\")\n",
    "            continue"
   ]
  }
 ],
 "metadata": {
  "kernelspec": {
   "display_name": "Python 3",
   "language": "python",
   "name": "python3"
  },
  "language_info": {
   "codemirror_mode": {
    "name": "ipython",
    "version": 3
   },
   "file_extension": ".py",
   "mimetype": "text/x-python",
   "name": "python",
   "nbconvert_exporter": "python",
   "pygments_lexer": "ipython3",
   "version": "3.6.5"
  }
 },
 "nbformat": 4,
 "nbformat_minor": 2
}
