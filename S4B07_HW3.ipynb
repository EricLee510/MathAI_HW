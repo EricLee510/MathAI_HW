{
 "cells": [
  {
   "cell_type": "code",
   "execution_count": 3,
   "metadata": {},
   "outputs": [],
   "source": [
    "from openpyxl import Workbook, load_workbook\n",
    "from openpyxl.utils import get_column_letter\n",
    "from openpyxl.styles import Font"
   ]
  },
  {
   "cell_type": "code",
   "execution_count": 6,
   "metadata": {},
   "outputs": [],
   "source": [
    "data = [\n",
    "        {\n",
    "            \"Name\": \"Ken\",\n",
    "            \"Height\": 180,\n",
    "            \"Age\": 26,\n",
    "            \"Weight\": 69\n",
    "        },\n",
    "        {\n",
    "            \"Name\": \"Rose\",\n",
    "            \"Height\": 160,\n",
    "            \"Age\": 22,\n",
    "            \"Weight\": 55\n",
    "        },\n",
    "        {\n",
    "            \"Name\": \"Kelvin\",\n",
    "            \"Height\": 170,\n",
    "            \"Age\": 29,\n",
    "            \"Weight\": 73\n",
    "        },\n",
    "        {\n",
    "            \"Name\": \"Kitty\",\n",
    "            \"Height\": 172,\n",
    "            \"Age\": 68,\n",
    "            \"Weight\": 55\n",
    "        },\n",
    "        {\n",
    "            \"Name\": \"Ben\",\n",
    "            \"Height\": 165,\n",
    "            \"Age\": 50,\n",
    "            \"Weight\": 62\n",
    "        }\n",
    "        ]"
   ]
  },
  {
   "cell_type": "code",
   "execution_count": 32,
   "metadata": {},
   "outputs": [],
   "source": [
    "wb = Workbook()\n",
    "ws = wb.active\n",
    "dataKeyList = list(data[0].keys())\n",
    "ws.append(dataKeyList)\n",
    "for row in range(0,5):\n",
    "        a = list(data[row].values())\n",
    "        ws.append(a)\n",
    "\n",
    "average = 0\n",
    "for item in range(2,5):\n",
    "    char = get_column_letter(item)\n",
    "    for i in range(2,7): average += ws[char + str(i)].value\n",
    "    ws[char+\"7\"] = average/5 \n",
    "    average = 0\n",
    "\n",
    "for item in range(1,5):\n",
    "    char = get_column_letter(item)\n",
    "    ws[char + \"1\"].font = Font(bold = True, color = \"003366FF\")\n",
    "wb.save(\"EricHW.xlsx\")"
   ]
  },
  {
   "cell_type": "code",
   "execution_count": null,
   "metadata": {},
   "outputs": [],
   "source": []
  }
 ],
 "metadata": {
  "kernelspec": {
   "display_name": "Python 3",
   "language": "python",
   "name": "python3"
  },
  "language_info": {
   "codemirror_mode": {
    "name": "ipython",
    "version": 3
   },
   "file_extension": ".py",
   "mimetype": "text/x-python",
   "name": "python",
   "nbconvert_exporter": "python",
   "pygments_lexer": "ipython3",
   "version": "3.6.5"
  }
 },
 "nbformat": 4,
 "nbformat_minor": 2
}
